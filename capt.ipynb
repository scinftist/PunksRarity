{
  "nbformat": 4,
  "nbformat_minor": 0,
  "metadata": {
    "kernelspec": {
      "display_name": "Python 3",
      "language": "python",
      "name": "python3"
    },
    "language_info": {
      "codemirror_mode": {
        "name": "ipython",
        "version": 3
      },
      "file_extension": ".py",
      "mimetype": "text/x-python",
      "name": "python",
      "nbconvert_exporter": "python",
      "pygments_lexer": "ipython3",
      "version": "3.7.3"
    },
    "colab": {
      "name": "capt.ipynb",
      "provenance": [],
      "toc_visible": true
    }
  },
  "cells": [
    {
      "cell_type": "code",
      "metadata": {
        "id": "jiLOuq4WPZLv"
      },
      "source": [
        "from PIL import Image, ImageDraw, ImageFilter , ImageFont\n",
        "import numpy as np\n",
        "import os\n",
        "import glob\n",
        "import pandas as pd"
      ],
      "execution_count": null,
      "outputs": []
    },
    {
      "cell_type": "code",
      "metadata": {
        "id": "7Z_294CIPZL0"
      },
      "source": [
        "import matplotlib.pyplot as plt"
      ],
      "execution_count": null,
      "outputs": []
    },
    {
      "cell_type": "code",
      "metadata": {
        "id": "uW3ysQZ2PZL1"
      },
      "source": [
        "import math, decimal, datetime\n",
        "dec = decimal.Decimal\n",
        "\n",
        "def position(now=None): \n",
        "   if now is None: \n",
        "      now = datetime.datetime.now()\n",
        "\n",
        "   diff = now - datetime.datetime(2001, 1, 1)\n",
        "   days = dec(diff.days) + (dec(diff.seconds) / dec(86400))\n",
        "   lunations = dec(\"0.20439731\") + (days * dec(\"0.03386319269\"))\n",
        "\n",
        "   return lunations % dec(1)\n",
        "\n",
        "def phase(pos): \n",
        "    index = (pos * dec(8)) + dec(\"0.5\")\n",
        "    index = math.floor(index)\n",
        "    \n",
        "    \n",
        "    return int(index & 7)\n",
        "    \n"
      ],
      "execution_count": null,
      "outputs": []
    },
    {
      "cell_type": "code",
      "metadata": {
        "id": "2IA6cAXwaZKV"
      },
      "source": [
        "year = 0"
      ],
      "execution_count": null,
      "outputs": []
    },
    {
      "cell_type": "code",
      "metadata": {
        "id": "CrF2APETPZL3"
      },
      "source": [
        "#year function and or_POS_LIST\n",
        "def f_sky(year):\n",
        "    return year % 7\n",
        "    \n",
        "def f_land(year):\n",
        "    return year%5\n",
        "\n",
        "def f_tree(year):\n",
        "    if year%1000 ==0:\n",
        "        return 1\n",
        "    else:\n",
        "        return 0\n",
        "# def f_tree(year):\n",
        "#         return 0\n",
        "def f_crown(year):\n",
        "    return (year+3)%3\n",
        "\n",
        "def f_or(year,k):\n",
        "    return (year-99)%11\n",
        "\n",
        "def f_obj(year):\n",
        "    return (year-99)%13\n",
        "\n",
        "def f_moon(year):\n",
        "    if year == 0:\n",
        "        return 5\n",
        "    else:\n",
        "        return phase(position(now= datetime.datetime(year,12,25)))\n",
        "def f_person(year):\n",
        "    return (year-99)%18\n",
        "\n"
      ],
      "execution_count": null,
      "outputs": []
    },
    {
      "cell_type": "markdown",
      "metadata": {
        "id": "yZ1Hi7p1frZN"
      },
      "source": [
        "# story Hashtags"
      ]
    },
    {
      "cell_type": "code",
      "metadata": {
        "id": "rPWSWp4nPZL4"
      },
      "source": [
        "person_char_list = [['Ān nà Panda','Where is all bamboo trees?'],['Baby Jesus','Whats for supper ?'],['Benny da Bill','What\\'s my name?'],['Bitna Byeol','Blood sweat & ..?'],['Bobby Marley','Where is Ma Ax?'],['Coli Koala','I feel something is burning'],['Covi da 19th','What year is it?'],['Diego Daddario','Awh where is the snowman?'],['Lady Liberty','Who run the world?'],['Muskarpone','Where is my Falcon?'],['Owly Alien','Whoo whoo did this ?'],['Owprah','Where is the mic?'],['Poly Polar','Where is the ice?'],['Pussy Cat','Cat got your tounge?'],['Santa Blunta','Huhh.. What time is it ?!'],['Snoopy Doggy','Where is the bush ?'],['Tim Apple','Where is the bush ?'],['Uni Unicorn','Whasup ?']]\n",
        "obj_char_list = [['Ān nà Panda','I\\'m so pretty.'],['Baby Jesus','Birthday boy is in da house.'],['Benny da Bill','Alright Alright Alright.'],['Bitna Byeol','J-Hope is under rated.'],['Bobby Marley','Green is good.'],['Diego Daddario','shhh i didn\\'t touch it.'],['Muskarpone','Next christmas on mars!'],['Owprah','You get vaccine, and you get a vaccine.'],['Poly Polar','Ice Ice baby.'],['Pussy Cat','Meow.'],['Santa Blunta','Leave the kids alone.'],['Snoopy Doggy','Give me munchies.'],['Tim Apple','One more thing...']]\n",
        "or_char_list = [['Ān nà Panda','Watch me move'],['Baby Jesus','Just vibing here.'],['Benny da Bill','Hum Humm ,Hum Humm ...'],['Bitna Byeol','Fire tree tree tree.'],['Coli Koala','Just let us be.'],['Covi da 19th','Don\\'t fear me, look out for global warming.'],['Owly Alien','Whoo whoo took our UFO key ?'],['Pussy Cat','Okurrr'],['Snoopy Doggy','Somebody play something.'],['Tim Apple','This is the most powerful tree that we ever seen.'],['Uni Unicorn','It\\'s a good year for coming out of the closet.']]\n",
        "sky_name_list = ['clear blue sky', 'cloudy sky', 'foggy','milky way','mountain sky','northern sky', 'stary sky' ]\n",
        "moon_name_list  = [\"New Moon\",\"Waxing Crescent\",\"First Quarter\",\"Waxing Gibbous\",\"Full Moon\",\"Waning Gibbous\",\"Last Quarter\",\"Waning Crescent\"]\n",
        "tree_name_list = ['Blue Spruce','Fraser Fir']\n",
        "land_name_list =['beachy beach','The cool hills', 'mountain side','Rainbowland','Shadow valley']\n"
      ],
      "execution_count": null,
      "outputs": []
    },
    {
      "cell_type": "markdown",
      "metadata": {
        "id": "yOxUvI0efwsG"
      },
      "source": [
        "# General hashtags\n"
      ]
    },
    {
      "cell_type": "code",
      "metadata": {
        "id": "MQdgrNIOf1sL"
      },
      "source": [
        "general_hashtag = ' #XmasBook , #NFT , #NFTs , #DigitlaArt , #TrashArt , #NFTART , #PixelArt , #CryptoArt , @Pixelartlife , @ProjectOpensea'"
      ],
      "execution_count": null,
      "outputs": []
    },
    {
      "cell_type": "markdown",
      "metadata": {
        "id": "gEzbdcDwgJka"
      },
      "source": [
        "# special hashtags"
      ]
    },
    {
      "cell_type": "code",
      "metadata": {
        "id": "jtDDpBDLPZL5"
      },
      "source": [
        "person_tag = {'Ān nà Panda':['#panda , #bamboo , #Wildlife'],'Baby Jesus':['#jesus , #Baby , #BabyJesus , #Whats4Supper'],\n",
        "              'Benny da Bill':['#Benny , #da , #bill , #heisenberg , #WlterWhite'],'Bitna Byeol':['#BTS ,#kpop , #kpopMemes , #BTSMemes'],\n",
        "              'Bobby Marley':['Where is Ma Ax?'],'Coli Koala':['I feel something is burning'],'Covi da 19th':['What year is it?'],\n",
        "              'Diego Daddario':['Awh where is the snowman?'],'Lady Liberty':['Who run the world?'],'Muskarpone':['Where is my Falcon?'],\n",
        "              'Owly Alien':['Whoo whoo did this ?'],'Owprah':['Where is the mic?'],'Poly Polar':['Where is the ice?'],\n",
        "              'Pussy Cat':['Cat got your tounge?'],'Santa Blunta':['Huhh.. What time is it ?!'],'Snoopy Doggy':['Where is the bush ?'],\n",
        "              'Tim Apple':['Where is the bush ?'],'Uni Unicorn':['Whasup ?']}\n",
        "object_tag = {'Ān nà Panda':['#panda , #bamboo , #Wildlife'],'Baby Jesus':['#jesus , #Baby , #BabyJesus , #Whats4Supper'],\n",
        "              'Benny da Bill':['#Benny , #da , #bill , #heisenberg , #WlterWhite'],'Bitna Byeol':['#BTS ,#kpop , #kpopMemes , #BTSMemes'],\n",
        "              'Bobby Marley':['Where is Ma Ax?'],'Coli Koala':['I feel something is burning'],'Covi da 19th':['What year is it?'],\n",
        "              'Diego Daddario':['Awh where is the snowman?'],'Lady Liberty':['Who run the world?'],'Muskarpone':['Where is my Falcon?'],\n",
        "              'Owly Alien':['Whoo whoo did this ?'],'Owprah':['Where is the mic?'],'Poly Polar':['Where is the ice?'],\n",
        "              'Pussy Cat':['Cat got your tounge?'],'Santa Blunta':['Huhh.. What time is it ?!'],'Snoopy Doggy':['Where is the bush ?'],\n",
        "              'Tim Apple':['Where is the bush ?'],'Uni Unicorn':['Whasup ?']}\n",
        "ornoment_tag ={'Ān nà Panda':['#panda , #bamboo , #Wildlife'],'Baby Jesus':['#jesus , #Baby , #BabyJesus , #Whats4Supper'],\n",
        "              'Benny da Bill':['#Benny , #da , #bill , #heisenberg , #WlterWhite'],'Bitna Byeol':['#BTS ,#kpop , #kpopMemes , #BTSMemes'],\n",
        "              'Bobby Marley':['Where is Ma Ax?'],'Coli Koala':['I feel something is burning'],'Covi da 19th':['What year is it?'],\n",
        "              'Diego Daddario':['Awh where is the snowman?'],'Lady Liberty':['Who run the world?'],'Muskarpone':['Where is my Falcon?'],\n",
        "              'Owly Alien':['Whoo whoo did this ?'],'Owprah':['Where is the mic?'],'Poly Polar':['Where is the ice?'],\n",
        "              'Pussy Cat':['Cat got your tounge?'],'Santa Blunta':['Huhh.. What time is it ?!'],'Snoopy Doggy':['Where is the bush ?'],\n",
        "              'Tim Apple':['Where is the bush ?'],'Uni Unicorn':['Whasup ?']}\n"
      ],
      "execution_count": null,
      "outputs": []
    },
    {
      "cell_type": "code",
      "metadata": {
        "colab": {
          "base_uri": "https://localhost:8080/"
        },
        "id": "GxUSeRc1c1T7",
        "outputId": "89b88adf-1107-4d22-c77b-e134acf3c380"
      },
      "source": [
        "type(object_tag)"
      ],
      "execution_count": null,
      "outputs": [
        {
          "output_type": "execute_result",
          "data": {
            "text/plain": [
              "dict"
            ]
          },
          "metadata": {
            "tags": []
          },
          "execution_count": 9
        }
      ]
    },
    {
      "cell_type": "code",
      "metadata": {
        "id": "x1HCJW2iPZL9"
      },
      "source": [
        "global_j_son = \"\"\n",
        "\n",
        "\n",
        "\n",
        "def make_data(year):\n",
        "\n",
        "    dream_story = str(\"In the christmas night of year {0}\\n {1}: \\\"{2}\\\", said to {3} \\nand {4} replied \\\"{5}\\\" ,\\nThen {6}Z said:\\\"{7}\\\"\").format(year ,person_char_list[f_person(year)][0],person_char_list[f_person(year)][1],obj_char_list[f_obj(year)][0],obj_char_list[f_obj(year)][0],obj_char_list[f_obj(year)][1],or_char_list[f_or(year,1)][0],or_char_list[f_or(year,1)][1]) \n",
        "#  \n",
        "# \n",
        "    story_temp = dream_story\n",
        "\n",
        "######sky\n",
        "    sky_temp = sky_name_list[f_sky(year)].replace(\" \", \"_\")\n",
        "\n",
        "######moon\n",
        "    moon_temp = moon_name_list[f_moon(year)].replace(\" \", \"_\")\n",
        "\n",
        "######land\n",
        "    land_temp = land_name_list[f_land(year)].replace(\" \", \"_\")\n",
        "\n",
        "######tree\n",
        "    tree_temp = tree_name_list[f_tree(year)].replace(\" \", \"_\")\n",
        "\n",
        "######challenger\n",
        "    person_temp = person_char_list[f_person(year)][0].replace(\" \", \"_\")\n",
        "\n",
        "######replier\n",
        "    obj_temp = obj_char_list[f_obj(year)][0].replace(\" \", \"_\")\n",
        "\n",
        "######ornament\n",
        "    or_temp = or_char_list[f_or(year,1)][0].replace(\" \", \"_\")\n",
        "\n",
        "    \n",
        "\n",
        "    if (person_char_list[f_person(year)][0] == obj_char_list[f_obj(year)][0] or\n",
        "        person_char_list[f_person(year)][0] ==  or_char_list[f_or(year,1)][0] or \n",
        "        obj_char_list[f_obj(year)][0] == or_char_list[f_or(year,1)][0]):\n",
        "        if person_char_list[f_person(year)][0] == obj_char_list[f_obj(year)][0] and person_char_list[f_person(year)][0] ==  or_char_list[f_or(year,1)][0] :\n",
        "            rank_temp = 'Three of a kind'.replace(\" \", \"_\")\n",
        "            pairof = 'Three of a kind'.replace(\" \", \"_\")+obj_char_list[f_obj(year)][0].replace(\" \", \"_\")\n",
        "        else:\n",
        "            rank_temp = 'Pair'\n",
        "            if person_char_list[f_person(year)][0] == obj_char_list[f_obj(year)][0] :\n",
        "                pairof = 'pair_of_' +  person_char_list[f_person(year)][0].replace(\" \", \"_\")\n",
        "            elif person_char_list[f_person(year)][0] ==  or_char_list[f_or(year,1)][0] :\n",
        "                pairof = 'pair_of_' + person_char_list[f_person(year)][0].replace(\" \", \"_\")\n",
        "            else :\n",
        "                 pairof = 'pair_of_' + obj_char_list[f_obj(year)][0].replace(\" \", \"_\")\n",
        "    else:\n",
        "        rank_temp = 'simple'\n",
        "        pairof = 'nothing'\n",
        "    \n",
        "    if person_char_list[f_person(year)][0] == 'Lady Liberty':\n",
        "        lady_val = 'lady'\n",
        "    else:\n",
        "        lady_val = 'nope'\n",
        "##########\n",
        "    data_dict = {'year':str(year),'sky':sky_temp,'moon':moon_temp,'land':land_temp,'tree':tree_temp,'person':person_temp,'object':obj_temp,'ornoment':or_temp,'rank':rank_temp,'pair_of':pairof,'lady':lady_val}\n",
        "#     print(data_dict)\n",
        "    return data_dict\n"
      ],
      "execution_count": null,
      "outputs": []
    },
    {
      "cell_type": "code",
      "metadata": {
        "id": "PrfPONZ6PZL5"
      },
      "source": [
        "\n",
        "\n",
        "\n",
        "def make_capt(year):\n",
        "\n",
        "    dream_story = str(\"In the christmas night of year {0} {1}: \\\"{2}\\\", said to {3} and {4} replied \\\"{5}\\\" ,Then {6}Z said:\\\"{7}\\\"\").format(year ,person_char_list[f_person(year)][0],person_char_list[f_person(year)][1],obj_char_list[f_obj(year)][0],obj_char_list[f_obj(year)][0],obj_char_list[f_obj(year)][1],or_char_list[f_or(year,1)][0],or_char_list[f_or(year,1)][1]) \n",
        " \n",
        "    j_temp = \"\"\n",
        "    temp = dream_story\n",
        "    j_temp = j_temp + temp +'. '\n",
        "######\n",
        "    temp_data = make_data(year)\n",
        "    for i in person_tag.get(temp_data.get('person').replace('_',' ')):\n",
        "      temp = i\n",
        "      j_temp = j_temp + temp + ' ,'\n",
        "##########\n",
        "    for i in object_tag.get(temp_data.get('object').replace('_',' ')):\n",
        "      temp = i\n",
        "      j_temp = j_temp + temp + ' ,'\n",
        "\n",
        "    # for i in ornoment_tag.get((temp_data.get('ornoment'))):#.replace('_',' ')):\n",
        "    #   temp = i\n",
        "    #   j_temp = j_temp + temp + ' ,'\n",
        "######sky\n",
        "    temp = ' #'+sky_name_list[f_sky(year)].replace(\" \", \"_\")\n",
        "    j_temp = j_temp + temp + ' ,'\n",
        "######moon\n",
        "    temp = ' #'+moon_name_list[f_moon(year)].replace(\" \", \"_\")\n",
        "    j_temp = j_temp + temp + ' ,'\n",
        "######land\n",
        "    temp = ' #'+land_name_list[f_land(year)].replace(\" \", \"_\")\n",
        "    j_temp = j_temp + temp + ' ,'\n",
        "######tree\n",
        "    temp = ' #'+tree_name_list[f_tree(year)].replace(\" \", \"_\")\n",
        "    j_temp = j_temp + temp + ' ,'\n",
        "######challenger\n",
        "    temp = ' #'+person_char_list[f_person(year)][0].replace(\" \", \"\")\n",
        "    j_temp = j_temp + temp + ' ,'\n",
        "######replier\n",
        "    temp = ' #'+obj_char_list[f_obj(year)][0].replace(\" \", \"\")\n",
        "    j_temp = j_temp + temp + ' ,'\n",
        "######ornament\n",
        "    temp = ' #'+or_char_list[f_or(year,1)][0].replace(\" \", \"\")\n",
        "    j_temp = j_temp + temp + ' ,'\n",
        "    \n",
        "#     temp = str(trait_json).format()\n",
        "    if (person_char_list[f_person(year)][0] == obj_char_list[f_obj(year)][0] or\n",
        "        person_char_list[f_person(year)][0] ==  or_char_list[f_or(year,1)][0] or \n",
        "        obj_char_list[f_obj(year)][0] == or_char_list[f_or(year,1)][0]):\n",
        "        if person_char_list[f_person(year)][0] == obj_char_list[f_obj(year)][0] and person_char_list[f_person(year)][0] ==  or_char_list[f_or(year,1)][0] :\n",
        "            temp =  ' #'+'Three of a kind'.replace(\" \", \"_\")\n",
        "            j_temp = j_temp + temp +' , #HyperRare'\n",
        "        else:\n",
        "            temp = '#'+'Pair , #SuperRare ,'\n",
        "            j_temp = j_temp + temp \n",
        "    j_temp = j_temp + general_hashtag\n",
        "##########\n",
        "#     print(j_temp)\n",
        "#     img.show()\n",
        "    return j_temp\n"
      ],
      "execution_count": null,
      "outputs": []
    },
    {
      "cell_type": "markdown",
      "metadata": {
        "id": "ZbIjL9iZhICN"
      },
      "source": [
        "# Caption"
      ]
    },
    {
      "cell_type": "code",
      "metadata": {
        "colab": {
          "base_uri": "https://localhost:8080/",
          "height": 103
        },
        "id": "P3NT-mrFPZL7",
        "outputId": "a85873e4-8b31-48ea-84ce-08f22787315e"
      },
      "source": [
        "print('put a  year then enter')\n",
        "make_capt(int(input()))"
      ],
      "execution_count": null,
      "outputs": [
        {
          "output_type": "stream",
          "text": [
            "put a  year\n",
            "44\n"
          ],
          "name": "stdout"
        },
        {
          "output_type": "execute_result",
          "data": {
            "application/vnd.google.colaboratory.intrinsic+json": {
              "type": "string"
            },
            "text/plain": [
              "'In the christmas night of year 44 Uni Unicorn: \"Whasup ?\", said to Santa Blunta and Santa Blunta replied \"Leave the kids alone.\" ,Then Ān nà PandaZ said:\"Watch me move\". Whasup ? ,Huhh.. What time is it ?! , #foggy , #Waning_Gibbous , #Shadow_valley , #Blue_Spruce , #UniUnicorn , #SantaBlunta , #ĀnnàPanda , #XmasBook , #NFT , #NFTs , #DigitlaArt , #TrashArt , #NFTART , #PixelArt , #CryptoArt , @Pixelartlife , @ProjectOpensea'"
            ]
          },
          "metadata": {
            "tags": []
          },
          "execution_count": 21
        }
      ]
    },
    {
      "cell_type": "code",
      "metadata": {
        "colab": {
          "base_uri": "https://localhost:8080/"
        },
        "id": "EM1JmbEOPZL9",
        "outputId": "9d0e8924-9f93-4252-b2c5-2f48776a480b"
      },
      "source": [
        "year=10\n",
        "make_data(0)"
      ],
      "execution_count": null,
      "outputs": [
        {
          "output_type": "execute_result",
          "data": {
            "text/plain": [
              "{'lady': 'nope',\n",
              " 'land': 'beachy_beach',\n",
              " 'moon': 'Waning_Gibbous',\n",
              " 'object': 'Diego_Daddario',\n",
              " 'ornoment': 'Ān_nà_Panda',\n",
              " 'pair_of': 'nothing',\n",
              " 'person': 'Muskarpone',\n",
              " 'rank': 'simple',\n",
              " 'sky': 'clear_blue_sky',\n",
              " 'tree': 'Fraser_Fir',\n",
              " 'year': '0'}"
            ]
          },
          "metadata": {
            "tags": []
          },
          "execution_count": 19
        }
      ]
    },
    {
      "cell_type": "code",
      "metadata": {
        "id": "IWaSbuqHfioS"
      },
      "source": [
        ""
      ],
      "execution_count": null,
      "outputs": []
    }
  ]
}